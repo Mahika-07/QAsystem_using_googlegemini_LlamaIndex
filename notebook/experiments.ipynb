{
 "cells": [
  {
   "cell_type": "code",
   "execution_count": null,
   "metadata": {},
   "outputs": [],
   "source": [
    "import os\n",
    "from dotenv import load_dotenv\n",
    "load_dotenv()"
   ]
  },
  {
   "cell_type": "code",
   "execution_count": null,
   "metadata": {},
   "outputs": [],
   "source": [
    "google_api_key=os.getenv(\"GEMINI_API_KEY\") #to get key"
   ]
  },
  {
   "cell_type": "code",
   "execution_count": null,
   "metadata": {},
   "outputs": [],
   "source": [
    "if google_api_key==\"\":\n",
    "    print(\"API key not found\")\n",
    "else:\n",
    "    print(\"API key found\")"
   ]
  },
  {
   "cell_type": "code",
   "execution_count": null,
   "metadata": {},
   "outputs": [],
   "source": [
    "\n",
    "from llama_index.llms.gemini import Gemini\n",
    "\n",
    "import google.generativeai as genai\n",
    "\n",
    "from llama_index.core import SimpleDirectoryReader #used to load data\n",
    "\n",
    "from llama_index.core import VectorStoreIndex\n",
    "\n",
    "from IPython.display import Markdown, display\n",
    "\n",
    "from llama_index.core import ServiceContext\n",
    "\n",
    "from llama_index.core import StorageContext, load_index_from_storage\n",
    "\n",
    "from llama_index.embeddings.gemini import GeminiEmbedding"
   ]
  },
  {
   "cell_type": "code",
   "execution_count": null,
   "metadata": {},
   "outputs": [],
   "source": [
    "genai.configure(api_key=google_api_key) #to check if api is working or not"
   ]
  },
  {
   "cell_type": "code",
   "execution_count": null,
   "metadata": {},
   "outputs": [],
   "source": [
    "#checing if i can call my models or not using the key\n",
    "for models in genai.list_models():\n",
    "    print(models)\n"
   ]
  },
  {
   "cell_type": "code",
   "execution_count": null,
   "metadata": {},
   "outputs": [],
   "source": [
    "for models in genai.list_models():\n",
    "  if 'generateContent' in models.supported_generation_methods:\n",
    "    print(models.name)\n",
    "#some of these models are text- to- text generation and image-to-text generation"
   ]
  },
  {
   "cell_type": "code",
   "execution_count": null,
   "metadata": {},
   "outputs": [],
   "source": [
    "documents=SimpleDirectoryReader(\"../Data\")"
   ]
  },
  {
   "cell_type": "code",
   "execution_count": null,
   "metadata": {},
   "outputs": [],
   "source": [
    "doc=documents.load_data()"
   ]
  },
  {
   "cell_type": "code",
   "execution_count": null,
   "metadata": {},
   "outputs": [],
   "source": [
    "print(doc[0].text)"
   ]
  },
  {
   "cell_type": "code",
   "execution_count": null,
   "metadata": {},
   "outputs": [],
   "source": [
    "model=Gemini(models='gemini-pro',api_key=google_api_key) #main model is gemini-pro and under that we are using embedding-001"
   ]
  },
  {
   "cell_type": "code",
   "execution_count": null,
   "metadata": {},
   "outputs": [],
   "source": [
    "gemini_embed_model=GeminiEmbedding(model_name=\"models/embedding-001\")"
   ]
  },
  {
   "cell_type": "code",
   "execution_count": null,
   "metadata": {},
   "outputs": [],
   "source": [
    "# # Configure Service Context- its a container that contains the following objects-index, query,helps in retrieving based on similar context(helps in indexing the embedding)\n",
    "# import llama_index\n",
    "# from llama_index.core import VectorStoreIndex\n",
    "# from llama_index.llms.ollama import Ollama\n",
    "# from llama_index.embeddings.gemini import GeminiEmbedding\n",
    "# from llama_index.core import Settings\n",
    "# from llama_index.core.node_parser import SentenceSplitter\n",
    "\n",
    "# # Assuming you've already defined this:\n",
    "# gemini_embed_model = GeminiEmbedding(model_name=\"models/embedding-001\")\n",
    "\n",
    "# # Configure LLM, embedding model, and node parser globally\n",
    "# Settings.llm = Ollama(model=\"llama2\", request_timeout=120.0)\n",
    "# Settings.embed_model = gemini_embed_model\n",
    "# Settings.node_parser = SentenceSplitter(chunk_size=512, chunk_overlap=20)\n",
    "# index = VectorStoreIndex.from_documents(doc)\n",
    "\n",
    "# Configure Service Context using Settings\n",
    "Settings.llm = model\n",
    "Settings.embed_model = gemini_embed_model\n",
    "Settings.node_parser = SentenceSplitter(chunk_size=512, chunk_overlap=20)\n",
    "\n",
    "# Build index and query\n",
    "index = VectorStoreIndex.from_documents(doc)\n",
    "index.storage_context.persist()\n",
    "query_engine = index.as_query_engine()"
   ]
  },
  {
   "cell_type": "code",
   "execution_count": null,
   "metadata": {},
   "outputs": [],
   "source": [
    "response = query_engine.query(\"what is a FLAIR?\")\n",
    "print(response)"
   ]
  },
  {
   "cell_type": "code",
   "execution_count": null,
   "metadata": {},
   "outputs": [],
   "source": [
    "\n",
    "response = query_engine.query(\"what is the command for install the FLAIR library?\")\n",
    "print(response)"
   ]
  },
  {
   "cell_type": "code",
   "execution_count": null,
   "metadata": {},
   "outputs": [],
   "source": [
    "\n",
    "\n",
    "response = query_engine.query(\"what is the proposed solution from this paper?\")\n",
    "print(response)"
   ]
  },
  {
   "cell_type": "code",
   "execution_count": null,
   "metadata": {},
   "outputs": [],
   "source": [
    "\n",
    "response = query_engine.query(\"what github links of this framework?\")\n",
    "print(response)"
   ]
  },
  {
   "cell_type": "code",
   "execution_count": null,
   "metadata": {},
   "outputs": [],
   "source": [
    "\n",
    "response = query_engine.query(\"what is the minimum python version to setup FLAIR in the environment?\")\n",
    "print(response)"
   ]
  },
  {
   "cell_type": "code",
   "execution_count": null,
   "metadata": {},
   "outputs": [],
   "source": [
    "\n",
    "response = query_engine.query(\"What are the presented framework used for?\")\n",
    "print(response)"
   ]
  }
 ],
 "metadata": {
  "kernelspec": {
   "display_name": "Python 3",
   "language": "python",
   "name": "python3"
  },
  "language_info": {
   "codemirror_mode": {
    "name": "ipython",
    "version": 3
   },
   "file_extension": ".py",
   "mimetype": "text/x-python",
   "name": "python",
   "nbconvert_exporter": "python",
   "pygments_lexer": "ipython3",
   "version": "3.10.16"
  }
 },
 "nbformat": 4,
 "nbformat_minor": 2
}
